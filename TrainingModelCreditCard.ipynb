{
  "cells": [
    {
      "cell_type": "markdown",
      "metadata": {
        "id": "view-in-github",
        "colab_type": "text"
      },
      "source": [
        "<a href=\"https://colab.research.google.com/github/anhthu54/FaceRecognition/blob/main/TrainingModelCreditCard.ipynb\" target=\"_parent\"><img src=\"https://colab.research.google.com/assets/colab-badge.svg\" alt=\"Open In Colab\"/></a>"
      ]
    },
    {
      "cell_type": "code",
      "execution_count": 2,
      "metadata": {
        "colab": {
          "base_uri": "https://localhost:8080/"
        },
        "id": "hhfad5R9sBbp",
        "outputId": "91a85bda-771a-4035-b822-9c9087d0b1f7"
      },
      "outputs": [
        {
          "output_type": "stream",
          "name": "stdout",
          "text": [
            "Drive already mounted at /content/drive; to attempt to forcibly remount, call drive.mount(\"/content/drive\", force_remount=True).\n"
          ]
        }
      ],
      "source": [
        "from google.colab import drive\n",
        "drive.mount('/content/drive')"
      ]
    },
    {
      "cell_type": "code",
      "execution_count": 3,
      "metadata": {
        "colab": {
          "base_uri": "https://localhost:8080/"
        },
        "id": "owABEFTIFFKW",
        "outputId": "edda91e4-101a-4381-dfb2-52270d9b26c7"
      },
      "outputs": [
        {
          "output_type": "stream",
          "name": "stdout",
          "text": [
            "/content/drive/MyDrive/Colab Notebooks/Data\n"
          ]
        }
      ],
      "source": [
        "cd /content/drive/MyDrive/Colab Notebooks/Data"
      ]
    },
    {
      "cell_type": "code",
      "execution_count": 4,
      "metadata": {
        "id": "jkUyvzj2sKkz"
      },
      "outputs": [],
      "source": [
        "import pandas as pd\n",
        "df = pd.read_csv('creditcard.csv')"
      ]
    },
    {
      "cell_type": "code",
      "execution_count": 5,
      "metadata": {
        "id": "nh6xMnlisPbb"
      },
      "outputs": [],
      "source": [
        "X = df.drop('Class', axis=1)\n",
        "y = df['Class']"
      ]
    },
    {
      "cell_type": "code",
      "execution_count": 6,
      "metadata": {
        "id": "s1t4HPbzsRMf"
      },
      "outputs": [],
      "source": [
        "from sklearn.model_selection import train_test_split\n",
        "X_train, X_test, y_train, y_test = train_test_split(X, y, stratify=y, test_size = 0.3, random_state = 42)"
      ]
    },
    {
      "cell_type": "code",
      "execution_count": 7,
      "metadata": {
        "id": "EJstiCTusUJ3"
      },
      "outputs": [],
      "source": [
        "#Feature Scaling\n",
        "from sklearn.preprocessing import StandardScaler,RobustScaler\n",
        "standard_scaler = StandardScaler()\n",
        "robust_scaler = RobustScaler()\n",
        "X_train['Time'] = standard_scaler.fit_transform(X_train['Time'].values.reshape(-1,1))\n",
        "X_train['Amount'] = robust_scaler.fit_transform(X_train['Amount'].values.reshape(-1,1))\n",
        "\n",
        "X_test['Time'] = standard_scaler.transform(X_test['Time'].values.reshape(-1,1))\n",
        "X_test['Amount'] = robust_scaler.transform(X_test['Amount'].values.reshape(-1,1))"
      ]
    },
    {
      "cell_type": "markdown",
      "metadata": {
        "id": "NEm0uEt8tS9K"
      },
      "source": [
        "# Khi không dùng các phương thức resampling"
      ]
    },
    {
      "cell_type": "code",
      "execution_count": 8,
      "metadata": {
        "id": "i7DBzlUQbdBi"
      },
      "outputs": [],
      "source": [
        "from sklearn.metrics import accuracy_score, roc_auc_score, f1_score, recall_score, precision_score\n",
        "from sklearn.model_selection import cross_val_score, StratifiedKFold\n",
        "import time\n",
        "from sklearn.linear_model import LogisticRegression\n",
        "from sklearn.svm import SVC\n",
        "from sklearn.tree import DecisionTreeClassifier\n",
        "from sklearn.ensemble import RandomForestClassifier\n",
        "import xgboost as xgb\n",
        "from imblearn.under_sampling import TomekLinks, RandomUnderSampler, NearMiss\n",
        "from imblearn.over_sampling import SMOTE, RandomOverSampler, ADASYN\n",
        "from imblearn.pipeline import Pipeline"
      ]
    },
    {
      "cell_type": "code",
      "execution_count": null,
      "metadata": {
        "colab": {
          "base_uri": "https://localhost:8080/",
          "height": 1000
        },
        "collapsed": true,
        "id": "b2439rtGsljn",
        "outputId": "55ffa7b6-3bd4-49e6-ded9-544a3cad92bc"
      },
      "outputs": [
        {
          "name": "stdout",
          "output_type": "stream",
          "text": [
            "Model: Logistic Regression\n",
            "Cross-Validation Accuracy: 0.9992\n",
            "Cross-Validation Precision: 0.8690\n",
            "Cross-Validation ROC AUC: 0.9812\n",
            "Cross-Validation F1 Score: 0.7327\n",
            "Cross-Validation Recall: 0.6337\n",
            "Training Time: 6.2805 seconds\n",
            "Test Set Accuracy: 0.9992\n",
            "Test Set ROC AUC: 0.9545\n",
            "Test Set F1 Score: 0.7216\n",
            "Test Set Recall: 0.6216\n",
            "------------------------------\n",
            "Model: Decision Tree\n",
            "Cross-Validation Accuracy: 0.9991\n",
            "Cross-Validation Precision: 0.7164\n",
            "Cross-Validation ROC AUC: 0.8688\n",
            "Cross-Validation F1 Score: 0.7221\n",
            "Cross-Validation Recall: 0.7469\n",
            "Training Time: 31.7997 seconds\n",
            "Test Set Accuracy: 0.9991\n",
            "Test Set ROC AUC: 0.8410\n",
            "Test Set F1 Score: 0.7214\n",
            "Test Set Recall: 0.6824\n",
            "------------------------------\n",
            "Model: Random Forest Classifier\n",
            "Cross-Validation Accuracy: 0.9995\n",
            "Cross-Validation Precision: 0.9292\n",
            "Cross-Validation ROC AUC: 0.9490\n",
            "Cross-Validation F1 Score: 0.8510\n",
            "Cross-Validation Recall: 0.7848\n",
            "Training Time: 252.7950 seconds\n",
            "Test Set Accuracy: 0.9995\n",
            "Test Set ROC AUC: 0.9307\n",
            "Test Set F1 Score: 0.8441\n",
            "Test Set Recall: 0.7500\n",
            "------------------------------\n"
          ]
        },
        {
          "name": "stderr",
          "output_type": "stream",
          "text": [
            "/usr/local/lib/python3.10/dist-packages/xgboost/core.py:158: UserWarning: [18:59:26] WARNING: /workspace/src/common/error_msg.cc:27: The tree method `gpu_hist` is deprecated since 2.0.0. To use GPU training, set the `device` parameter to CUDA instead.\n",
            "\n",
            "    E.g. tree_method = \"hist\", device = \"cuda\"\n",
            "\n",
            "  warnings.warn(smsg, UserWarning)\n",
            "/usr/local/lib/python3.10/dist-packages/xgboost/core.py:158: UserWarning: [18:59:26] WARNING: /workspace/src/context.cc:43: No visible GPU is found, setting device to CPU.\n",
            "  warnings.warn(smsg, UserWarning)\n",
            "/usr/local/lib/python3.10/dist-packages/xgboost/core.py:158: UserWarning: [18:59:26] WARNING: /workspace/src/context.cc:196: XGBoost is not compiled with CUDA support.\n",
            "  warnings.warn(smsg, UserWarning)\n",
            "/usr/local/lib/python3.10/dist-packages/xgboost/core.py:158: UserWarning: [18:59:26] WARNING: /workspace/src/learner.cc:740: \n",
            "Parameters: { \"use_label_encoder\" } are not used.\n",
            "\n",
            "  warnings.warn(smsg, UserWarning)\n",
            "/usr/local/lib/python3.10/dist-packages/xgboost/core.py:158: UserWarning: [18:59:27] WARNING: /workspace/src/common/error_msg.cc:27: The tree method `gpu_hist` is deprecated since 2.0.0. To use GPU training, set the `device` parameter to CUDA instead.\n",
            "\n",
            "    E.g. tree_method = \"hist\", device = \"cuda\"\n",
            "\n",
            "  warnings.warn(smsg, UserWarning)\n",
            "/usr/local/lib/python3.10/dist-packages/xgboost/core.py:158: UserWarning: [18:59:27] WARNING: /workspace/src/context.cc:43: No visible GPU is found, setting device to CPU.\n",
            "  warnings.warn(smsg, UserWarning)\n",
            "/usr/local/lib/python3.10/dist-packages/xgboost/core.py:158: UserWarning: [18:59:27] WARNING: /workspace/src/context.cc:196: XGBoost is not compiled with CUDA support.\n",
            "  warnings.warn(smsg, UserWarning)\n",
            "/usr/local/lib/python3.10/dist-packages/xgboost/core.py:158: UserWarning: [18:59:27] WARNING: /workspace/src/learner.cc:740: \n",
            "Parameters: { \"use_label_encoder\" } are not used.\n",
            "\n",
            "  warnings.warn(smsg, UserWarning)\n",
            "/usr/local/lib/python3.10/dist-packages/xgboost/core.py:158: UserWarning: [18:59:29] WARNING: /workspace/src/common/error_msg.cc:27: The tree method `gpu_hist` is deprecated since 2.0.0. To use GPU training, set the `device` parameter to CUDA instead.\n",
            "\n",
            "    E.g. tree_method = \"hist\", device = \"cuda\"\n",
            "\n",
            "  warnings.warn(smsg, UserWarning)\n",
            "/usr/local/lib/python3.10/dist-packages/xgboost/core.py:158: UserWarning: [18:59:29] WARNING: /workspace/src/context.cc:43: No visible GPU is found, setting device to CPU.\n",
            "  warnings.warn(smsg, UserWarning)\n",
            "/usr/local/lib/python3.10/dist-packages/xgboost/core.py:158: UserWarning: [18:59:29] WARNING: /workspace/src/context.cc:196: XGBoost is not compiled with CUDA support.\n",
            "  warnings.warn(smsg, UserWarning)\n",
            "/usr/local/lib/python3.10/dist-packages/xgboost/core.py:158: UserWarning: [18:59:29] WARNING: /workspace/src/learner.cc:740: \n",
            "Parameters: { \"use_label_encoder\" } are not used.\n",
            "\n",
            "  warnings.warn(smsg, UserWarning)\n",
            "/usr/local/lib/python3.10/dist-packages/xgboost/core.py:158: UserWarning: [18:59:30] WARNING: /workspace/src/common/error_msg.cc:27: The tree method `gpu_hist` is deprecated since 2.0.0. To use GPU training, set the `device` parameter to CUDA instead.\n",
            "\n",
            "    E.g. tree_method = \"hist\", device = \"cuda\"\n",
            "\n",
            "  warnings.warn(smsg, UserWarning)\n",
            "/usr/local/lib/python3.10/dist-packages/xgboost/core.py:158: UserWarning: [18:59:30] WARNING: /workspace/src/context.cc:43: No visible GPU is found, setting device to CPU.\n",
            "  warnings.warn(smsg, UserWarning)\n",
            "/usr/local/lib/python3.10/dist-packages/xgboost/core.py:158: UserWarning: [18:59:30] WARNING: /workspace/src/context.cc:196: XGBoost is not compiled with CUDA support.\n",
            "  warnings.warn(smsg, UserWarning)\n",
            "/usr/local/lib/python3.10/dist-packages/xgboost/core.py:158: UserWarning: [18:59:30] WARNING: /workspace/src/learner.cc:740: \n",
            "Parameters: { \"use_label_encoder\" } are not used.\n",
            "\n",
            "  warnings.warn(smsg, UserWarning)\n",
            "/usr/local/lib/python3.10/dist-packages/xgboost/core.py:158: UserWarning: [18:59:32] WARNING: /workspace/src/common/error_msg.cc:27: The tree method `gpu_hist` is deprecated since 2.0.0. To use GPU training, set the `device` parameter to CUDA instead.\n",
            "\n",
            "    E.g. tree_method = \"hist\", device = \"cuda\"\n",
            "\n",
            "  warnings.warn(smsg, UserWarning)\n",
            "/usr/local/lib/python3.10/dist-packages/xgboost/core.py:158: UserWarning: [18:59:32] WARNING: /workspace/src/context.cc:43: No visible GPU is found, setting device to CPU.\n",
            "  warnings.warn(smsg, UserWarning)\n",
            "/usr/local/lib/python3.10/dist-packages/xgboost/core.py:158: UserWarning: [18:59:32] WARNING: /workspace/src/context.cc:196: XGBoost is not compiled with CUDA support.\n",
            "  warnings.warn(smsg, UserWarning)\n",
            "/usr/local/lib/python3.10/dist-packages/xgboost/core.py:158: UserWarning: [18:59:32] WARNING: /workspace/src/learner.cc:740: \n",
            "Parameters: { \"use_label_encoder\" } are not used.\n",
            "\n",
            "  warnings.warn(smsg, UserWarning)\n"
          ]
        },
        {
          "ename": "ValueError",
          "evalue": "\nAll the 5 fits failed.\nIt is very likely that your model is misconfigured.\nYou can try to debug the error by setting error_score='raise'.\n\nBelow are more details about the failures:\n--------------------------------------------------------------------------------\n1 fits failed with the following error:\nTraceback (most recent call last):\n  File \"/usr/local/lib/python3.10/dist-packages/sklearn/model_selection/_validation.py\", line 729, in _fit_and_score\n    estimator.fit(X_train, y_train, **fit_params)\n  File \"/usr/local/lib/python3.10/dist-packages/xgboost/core.py\", line 726, in inner_f\n    return func(**kwargs)\n  File \"/usr/local/lib/python3.10/dist-packages/xgboost/sklearn.py\", line 1531, in fit\n    self._Booster = train(\n  File \"/usr/local/lib/python3.10/dist-packages/xgboost/core.py\", line 726, in inner_f\n    return func(**kwargs)\n  File \"/usr/local/lib/python3.10/dist-packages/xgboost/training.py\", line 181, in train\n    bst.update(dtrain, iteration=i, fobj=obj)\n  File \"/usr/local/lib/python3.10/dist-packages/xgboost/core.py\", line 2100, in update\n    _check_call(\n  File \"/usr/local/lib/python3.10/dist-packages/xgboost/core.py\", line 284, in _check_call\n    raise XGBoostError(py_str(_LIB.XGBGetLastError()))\nxgboost.core.XGBoostError: [18:59:26] /workspace/src/tree/updater_gpu_hist.cu:861: Exception in gpu_hist: [18:59:26] /workspace/src/tree/updater_gpu_hist.cu:867: Check failed: ctx_->Ordinal() >= 0 (-1 vs. 0) : Must have at least one device\nStack trace:\n  [bt] (0) /usr/local/lib/python3.10/dist-packages/xgboost/lib/libxgboost.so(+0x22dbbc) [0x7e607da2dbbc]\n  [bt] (1) /usr/local/lib/python3.10/dist-packages/xgboost/lib/libxgboost.so(+0xd2b4c3) [0x7e607e52b4c3]\n  [bt] (2) /usr/local/lib/python3.10/dist-packages/xgboost/lib/libxgboost.so(+0xd2bf84) [0x7e607e52bf84]\n  [bt] (3) /usr/local/lib/python3.10/dist-packages/xgboost/lib/libxgboost.so(+0x57f196) [0x7e607dd7f196]\n  [bt] (4) /usr/local/lib/python3.10/dist-packages/xgboost/lib/libxgboost.so(+0x580564) [0x7e607dd80564]\n  [bt] (5) /usr/local/lib/python3.10/dist-packages/xgboost/lib/libxgboost.so(+0x5cae68) [0x7e607ddcae68]\n  [bt] (6) /usr/local/lib/python3.10/dist-packages/xgboost/lib/libxgboost.so(XGBoosterUpdateOneIter+0x6f) [0x7e607d93742f]\n  [bt] (7) /lib/x86_64-linux-gnu/libffi.so.8(+0x7e2e) [0x7e60e8ab3e2e]\n  [bt] (8) /lib/x86_64-linux-gnu/libffi.so.8(+0x4493) [0x7e60e8ab0493]\n\n\n\nStack trace:\n  [bt] (0) /usr/local/lib/python3.10/dist-packages/xgboost/lib/libxgboost.so(+0x22dbbc) [0x7e607da2dbbc]\n  [bt] (1) /usr/local/lib/python3.10/dist-packages/xgboost/lib/libxgboost.so(+0xd2c154) [0x7e607e52c154]\n  [bt] (2) /usr/local/lib/python3.10/dist-packages/xgboost/lib/libxgboost.so(+0x57f196) [0x7e607dd7f196]\n  [bt] (3) /usr/local/lib/python3.10/dist-packages/xgboost/lib/libxgboost.so(+0x580564) [0x7e607dd80564]\n  [bt] (4) /usr/local/lib/python3.10/dist-packages/xgboost/lib/libxgboost.so(+0x5cae68) [0x7e607ddcae68]\n  [bt] (5) /usr/local/lib/python3.10/dist-packages/xgboost/lib/libxgboost.so(XGBoosterUpdateOneIter+0x6f) [0x7e607d93742f]\n  [bt] (6) /lib/x86_64-linux-gnu/libffi.so.8(+0x7e2e) [0x7e60e8ab3e2e]\n  [bt] (7) /lib/x86_64-linux-gnu/libffi.so.8(+0x4493) [0x7e60e8ab0493]\n  [bt] (8) /usr/lib/python3.10/lib-dynload/_ctypes.cpython-310-x86_64-linux-gnu.so(+0xa3e9) [0x7e60e8ad93e9]\n\n\n\n--------------------------------------------------------------------------------\n1 fits failed with the following error:\nTraceback (most recent call last):\n  File \"/usr/local/lib/python3.10/dist-packages/sklearn/model_selection/_validation.py\", line 729, in _fit_and_score\n    estimator.fit(X_train, y_train, **fit_params)\n  File \"/usr/local/lib/python3.10/dist-packages/xgboost/core.py\", line 726, in inner_f\n    return func(**kwargs)\n  File \"/usr/local/lib/python3.10/dist-packages/xgboost/sklearn.py\", line 1531, in fit\n    self._Booster = train(\n  File \"/usr/local/lib/python3.10/dist-packages/xgboost/core.py\", line 726, in inner_f\n    return func(**kwargs)\n  File \"/usr/local/lib/python3.10/dist-packages/xgboost/training.py\", line 181, in train\n    bst.update(dtrain, iteration=i, fobj=obj)\n  File \"/usr/local/lib/python3.10/dist-packages/xgboost/core.py\", line 2100, in update\n    _check_call(\n  File \"/usr/local/lib/python3.10/dist-packages/xgboost/core.py\", line 284, in _check_call\n    raise XGBoostError(py_str(_LIB.XGBGetLastError()))\nxgboost.core.XGBoostError: [18:59:27] /workspace/src/tree/updater_gpu_hist.cu:861: Exception in gpu_hist: [18:59:27] /workspace/src/tree/updater_gpu_hist.cu:867: Check failed: ctx_->Ordinal() >= 0 (-1 vs. 0) : Must have at least one device\nStack trace:\n  [bt] (0) /usr/local/lib/python3.10/dist-packages/xgboost/lib/libxgboost.so(+0x22dbbc) [0x7e607da2dbbc]\n  [bt] (1) /usr/local/lib/python3.10/dist-packages/xgboost/lib/libxgboost.so(+0xd2b4c3) [0x7e607e52b4c3]\n  [bt] (2) /usr/local/lib/python3.10/dist-packages/xgboost/lib/libxgboost.so(+0xd2bf84) [0x7e607e52bf84]\n  [bt] (3) /usr/local/lib/python3.10/dist-packages/xgboost/lib/libxgboost.so(+0x57f196) [0x7e607dd7f196]\n  [bt] (4) /usr/local/lib/python3.10/dist-packages/xgboost/lib/libxgboost.so(+0x580564) [0x7e607dd80564]\n  [bt] (5) /usr/local/lib/python3.10/dist-packages/xgboost/lib/libxgboost.so(+0x5cae68) [0x7e607ddcae68]\n  [bt] (6) /usr/local/lib/python3.10/dist-packages/xgboost/lib/libxgboost.so(XGBoosterUpdateOneIter+0x6f) [0x7e607d93742f]\n  [bt] (7) /lib/x86_64-linux-gnu/libffi.so.8(+0x7e2e) [0x7e60e8ab3e2e]\n  [bt] (8) /lib/x86_64-linux-gnu/libffi.so.8(+0x4493) [0x7e60e8ab0493]\n\n\n\nStack trace:\n  [bt] (0) /usr/local/lib/python3.10/dist-packages/xgboost/lib/libxgboost.so(+0x22dbbc) [0x7e607da2dbbc]\n  [bt] (1) /usr/local/lib/python3.10/dist-packages/xgboost/lib/libxgboost.so(+0xd2c154) [0x7e607e52c154]\n  [bt] (2) /usr/local/lib/python3.10/dist-packages/xgboost/lib/libxgboost.so(+0x57f196) [0x7e607dd7f196]\n  [bt] (3) /usr/local/lib/python3.10/dist-packages/xgboost/lib/libxgboost.so(+0x580564) [0x7e607dd80564]\n  [bt] (4) /usr/local/lib/python3.10/dist-packages/xgboost/lib/libxgboost.so(+0x5cae68) [0x7e607ddcae68]\n  [bt] (5) /usr/local/lib/python3.10/dist-packages/xgboost/lib/libxgboost.so(XGBoosterUpdateOneIter+0x6f) [0x7e607d93742f]\n  [bt] (6) /lib/x86_64-linux-gnu/libffi.so.8(+0x7e2e) [0x7e60e8ab3e2e]\n  [bt] (7) /lib/x86_64-linux-gnu/libffi.so.8(+0x4493) [0x7e60e8ab0493]\n  [bt] (8) /usr/lib/python3.10/lib-dynload/_ctypes.cpython-310-x86_64-linux-gnu.so(+0xa3e9) [0x7e60e8ad93e9]\n\n\n\n--------------------------------------------------------------------------------\n1 fits failed with the following error:\nTraceback (most recent call last):\n  File \"/usr/local/lib/python3.10/dist-packages/sklearn/model_selection/_validation.py\", line 729, in _fit_and_score\n    estimator.fit(X_train, y_train, **fit_params)\n  File \"/usr/local/lib/python3.10/dist-packages/xgboost/core.py\", line 726, in inner_f\n    return func(**kwargs)\n  File \"/usr/local/lib/python3.10/dist-packages/xgboost/sklearn.py\", line 1531, in fit\n    self._Booster = train(\n  File \"/usr/local/lib/python3.10/dist-packages/xgboost/core.py\", line 726, in inner_f\n    return func(**kwargs)\n  File \"/usr/local/lib/python3.10/dist-packages/xgboost/training.py\", line 181, in train\n    bst.update(dtrain, iteration=i, fobj=obj)\n  File \"/usr/local/lib/python3.10/dist-packages/xgboost/core.py\", line 2100, in update\n    _check_call(\n  File \"/usr/local/lib/python3.10/dist-packages/xgboost/core.py\", line 284, in _check_call\n    raise XGBoostError(py_str(_LIB.XGBGetLastError()))\nxgboost.core.XGBoostError: [18:59:29] /workspace/src/tree/updater_gpu_hist.cu:861: Exception in gpu_hist: [18:59:29] /workspace/src/tree/updater_gpu_hist.cu:867: Check failed: ctx_->Ordinal() >= 0 (-1 vs. 0) : Must have at least one device\nStack trace:\n  [bt] (0) /usr/local/lib/python3.10/dist-packages/xgboost/lib/libxgboost.so(+0x22dbbc) [0x7e607da2dbbc]\n  [bt] (1) /usr/local/lib/python3.10/dist-packages/xgboost/lib/libxgboost.so(+0xd2b4c3) [0x7e607e52b4c3]\n  [bt] (2) /usr/local/lib/python3.10/dist-packages/xgboost/lib/libxgboost.so(+0xd2bf84) [0x7e607e52bf84]\n  [bt] (3) /usr/local/lib/python3.10/dist-packages/xgboost/lib/libxgboost.so(+0x57f196) [0x7e607dd7f196]\n  [bt] (4) /usr/local/lib/python3.10/dist-packages/xgboost/lib/libxgboost.so(+0x580564) [0x7e607dd80564]\n  [bt] (5) /usr/local/lib/python3.10/dist-packages/xgboost/lib/libxgboost.so(+0x5cae68) [0x7e607ddcae68]\n  [bt] (6) /usr/local/lib/python3.10/dist-packages/xgboost/lib/libxgboost.so(XGBoosterUpdateOneIter+0x6f) [0x7e607d93742f]\n  [bt] (7) /lib/x86_64-linux-gnu/libffi.so.8(+0x7e2e) [0x7e60e8ab3e2e]\n  [bt] (8) /lib/x86_64-linux-gnu/libffi.so.8(+0x4493) [0x7e60e8ab0493]\n\n\n\nStack trace:\n  [bt] (0) /usr/local/lib/python3.10/dist-packages/xgboost/lib/libxgboost.so(+0x22dbbc) [0x7e607da2dbbc]\n  [bt] (1) /usr/local/lib/python3.10/dist-packages/xgboost/lib/libxgboost.so(+0xd2c154) [0x7e607e52c154]\n  [bt] (2) /usr/local/lib/python3.10/dist-packages/xgboost/lib/libxgboost.so(+0x57f196) [0x7e607dd7f196]\n  [bt] (3) /usr/local/lib/python3.10/dist-packages/xgboost/lib/libxgboost.so(+0x580564) [0x7e607dd80564]\n  [bt] (4) /usr/local/lib/python3.10/dist-packages/xgboost/lib/libxgboost.so(+0x5cae68) [0x7e607ddcae68]\n  [bt] (5) /usr/local/lib/python3.10/dist-packages/xgboost/lib/libxgboost.so(XGBoosterUpdateOneIter+0x6f) [0x7e607d93742f]\n  [bt] (6) /lib/x86_64-linux-gnu/libffi.so.8(+0x7e2e) [0x7e60e8ab3e2e]\n  [bt] (7) /lib/x86_64-linux-gnu/libffi.so.8(+0x4493) [0x7e60e8ab0493]\n  [bt] (8) /usr/lib/python3.10/lib-dynload/_ctypes.cpython-310-x86_64-linux-gnu.so(+0xa3e9) [0x7e60e8ad93e9]\n\n\n\n--------------------------------------------------------------------------------\n1 fits failed with the following error:\nTraceback (most recent call last):\n  File \"/usr/local/lib/python3.10/dist-packages/sklearn/model_selection/_validation.py\", line 729, in _fit_and_score\n    estimator.fit(X_train, y_train, **fit_params)\n  File \"/usr/local/lib/python3.10/dist-packages/xgboost/core.py\", line 726, in inner_f\n    return func(**kwargs)\n  File \"/usr/local/lib/python3.10/dist-packages/xgboost/sklearn.py\", line 1531, in fit\n    self._Booster = train(\n  File \"/usr/local/lib/python3.10/dist-packages/xgboost/core.py\", line 726, in inner_f\n    return func(**kwargs)\n  File \"/usr/local/lib/python3.10/dist-packages/xgboost/training.py\", line 181, in train\n    bst.update(dtrain, iteration=i, fobj=obj)\n  File \"/usr/local/lib/python3.10/dist-packages/xgboost/core.py\", line 2100, in update\n    _check_call(\n  File \"/usr/local/lib/python3.10/dist-packages/xgboost/core.py\", line 284, in _check_call\n    raise XGBoostError(py_str(_LIB.XGBGetLastError()))\nxgboost.core.XGBoostError: [18:59:30] /workspace/src/tree/updater_gpu_hist.cu:861: Exception in gpu_hist: [18:59:30] /workspace/src/tree/updater_gpu_hist.cu:867: Check failed: ctx_->Ordinal() >= 0 (-1 vs. 0) : Must have at least one device\nStack trace:\n  [bt] (0) /usr/local/lib/python3.10/dist-packages/xgboost/lib/libxgboost.so(+0x22dbbc) [0x7e607da2dbbc]\n  [bt] (1) /usr/local/lib/python3.10/dist-packages/xgboost/lib/libxgboost.so(+0xd2b4c3) [0x7e607e52b4c3]\n  [bt] (2) /usr/local/lib/python3.10/dist-packages/xgboost/lib/libxgboost.so(+0xd2bf84) [0x7e607e52bf84]\n  [bt] (3) /usr/local/lib/python3.10/dist-packages/xgboost/lib/libxgboost.so(+0x57f196) [0x7e607dd7f196]\n  [bt] (4) /usr/local/lib/python3.10/dist-packages/xgboost/lib/libxgboost.so(+0x580564) [0x7e607dd80564]\n  [bt] (5) /usr/local/lib/python3.10/dist-packages/xgboost/lib/libxgboost.so(+0x5cae68) [0x7e607ddcae68]\n  [bt] (6) /usr/local/lib/python3.10/dist-packages/xgboost/lib/libxgboost.so(XGBoosterUpdateOneIter+0x6f) [0x7e607d93742f]\n  [bt] (7) /lib/x86_64-linux-gnu/libffi.so.8(+0x7e2e) [0x7e60e8ab3e2e]\n  [bt] (8) /lib/x86_64-linux-gnu/libffi.so.8(+0x4493) [0x7e60e8ab0493]\n\n\n\nStack trace:\n  [bt] (0) /usr/local/lib/python3.10/dist-packages/xgboost/lib/libxgboost.so(+0x22dbbc) [0x7e607da2dbbc]\n  [bt] (1) /usr/local/lib/python3.10/dist-packages/xgboost/lib/libxgboost.so(+0xd2c154) [0x7e607e52c154]\n  [bt] (2) /usr/local/lib/python3.10/dist-packages/xgboost/lib/libxgboost.so(+0x57f196) [0x7e607dd7f196]\n  [bt] (3) /usr/local/lib/python3.10/dist-packages/xgboost/lib/libxgboost.so(+0x580564) [0x7e607dd80564]\n  [bt] (4) /usr/local/lib/python3.10/dist-packages/xgboost/lib/libxgboost.so(+0x5cae68) [0x7e607ddcae68]\n  [bt] (5) /usr/local/lib/python3.10/dist-packages/xgboost/lib/libxgboost.so(XGBoosterUpdateOneIter+0x6f) [0x7e607d93742f]\n  [bt] (6) /lib/x86_64-linux-gnu/libffi.so.8(+0x7e2e) [0x7e60e8ab3e2e]\n  [bt] (7) /lib/x86_64-linux-gnu/libffi.so.8(+0x4493) [0x7e60e8ab0493]\n  [bt] (8) /usr/lib/python3.10/lib-dynload/_ctypes.cpython-310-x86_64-linux-gnu.so(+0xa3e9) [0x7e60e8ad93e9]\n\n\n\n--------------------------------------------------------------------------------\n1 fits failed with the following error:\nTraceback (most recent call last):\n  File \"/usr/local/lib/python3.10/dist-packages/sklearn/model_selection/_validation.py\", line 729, in _fit_and_score\n    estimator.fit(X_train, y_train, **fit_params)\n  File \"/usr/local/lib/python3.10/dist-packages/xgboost/core.py\", line 726, in inner_f\n    return func(**kwargs)\n  File \"/usr/local/lib/python3.10/dist-packages/xgboost/sklearn.py\", line 1531, in fit\n    self._Booster = train(\n  File \"/usr/local/lib/python3.10/dist-packages/xgboost/core.py\", line 726, in inner_f\n    return func(**kwargs)\n  File \"/usr/local/lib/python3.10/dist-packages/xgboost/training.py\", line 181, in train\n    bst.update(dtrain, iteration=i, fobj=obj)\n  File \"/usr/local/lib/python3.10/dist-packages/xgboost/core.py\", line 2100, in update\n    _check_call(\n  File \"/usr/local/lib/python3.10/dist-packages/xgboost/core.py\", line 284, in _check_call\n    raise XGBoostError(py_str(_LIB.XGBGetLastError()))\nxgboost.core.XGBoostError: [18:59:32] /workspace/src/tree/updater_gpu_hist.cu:861: Exception in gpu_hist: [18:59:32] /workspace/src/tree/updater_gpu_hist.cu:867: Check failed: ctx_->Ordinal() >= 0 (-1 vs. 0) : Must have at least one device\nStack trace:\n  [bt] (0) /usr/local/lib/python3.10/dist-packages/xgboost/lib/libxgboost.so(+0x22dbbc) [0x7e607da2dbbc]\n  [bt] (1) /usr/local/lib/python3.10/dist-packages/xgboost/lib/libxgboost.so(+0xd2b4c3) [0x7e607e52b4c3]\n  [bt] (2) /usr/local/lib/python3.10/dist-packages/xgboost/lib/libxgboost.so(+0xd2bf84) [0x7e607e52bf84]\n  [bt] (3) /usr/local/lib/python3.10/dist-packages/xgboost/lib/libxgboost.so(+0x57f196) [0x7e607dd7f196]\n  [bt] (4) /usr/local/lib/python3.10/dist-packages/xgboost/lib/libxgboost.so(+0x580564) [0x7e607dd80564]\n  [bt] (5) /usr/local/lib/python3.10/dist-packages/xgboost/lib/libxgboost.so(+0x5cae68) [0x7e607ddcae68]\n  [bt] (6) /usr/local/lib/python3.10/dist-packages/xgboost/lib/libxgboost.so(XGBoosterUpdateOneIter+0x6f) [0x7e607d93742f]\n  [bt] (7) /lib/x86_64-linux-gnu/libffi.so.8(+0x7e2e) [0x7e60e8ab3e2e]\n  [bt] (8) /lib/x86_64-linux-gnu/libffi.so.8(+0x4493) [0x7e60e8ab0493]\n\n\n\nStack trace:\n  [bt] (0) /usr/local/lib/python3.10/dist-packages/xgboost/lib/libxgboost.so(+0x22dbbc) [0x7e607da2dbbc]\n  [bt] (1) /usr/local/lib/python3.10/dist-packages/xgboost/lib/libxgboost.so(+0xd2c154) [0x7e607e52c154]\n  [bt] (2) /usr/local/lib/python3.10/dist-packages/xgboost/lib/libxgboost.so(+0x57f196) [0x7e607dd7f196]\n  [bt] (3) /usr/local/lib/python3.10/dist-packages/xgboost/lib/libxgboost.so(+0x580564) [0x7e607dd80564]\n  [bt] (4) /usr/local/lib/python3.10/dist-packages/xgboost/lib/libxgboost.so(+0x5cae68) [0x7e607ddcae68]\n  [bt] (5) /usr/local/lib/python3.10/dist-packages/xgboost/lib/libxgboost.so(XGBoosterUpdateOneIter+0x6f) [0x7e607d93742f]\n  [bt] (6) /lib/x86_64-linux-gnu/libffi.so.8(+0x7e2e) [0x7e60e8ab3e2e]\n  [bt] (7) /lib/x86_64-linux-gnu/libffi.so.8(+0x4493) [0x7e60e8ab0493]\n  [bt] (8) /usr/lib/python3.10/lib-dynload/_ctypes.cpython-310-x86_64-linux-gnu.so(+0xa3e9) [0x7e60e8ad93e9]\n\n\n",
          "output_type": "error",
          "traceback": [
            "\u001b[0;31m---------------------------------------------------------------------------\u001b[0m",
            "\u001b[0;31mValueError\u001b[0m                                Traceback (most recent call last)",
            "\u001b[0;32m<ipython-input-7-661167ad0a91>\u001b[0m in \u001b[0;36m<cell line: 60>\u001b[0;34m()\u001b[0m\n\u001b[1;32m     58\u001b[0m         \u001b[0mprint\u001b[0m\u001b[0;34m(\u001b[0m\u001b[0;34m\"-\"\u001b[0m \u001b[0;34m*\u001b[0m \u001b[0;36m30\u001b[0m\u001b[0;34m)\u001b[0m\u001b[0;34m\u001b[0m\u001b[0;34m\u001b[0m\u001b[0m\n\u001b[1;32m     59\u001b[0m \u001b[0;34m\u001b[0m\u001b[0m\n\u001b[0;32m---> 60\u001b[0;31m \u001b[0mtrain_and_evaluate_models\u001b[0m\u001b[0;34m(\u001b[0m\u001b[0mX_train\u001b[0m\u001b[0;34m,\u001b[0m \u001b[0my_train\u001b[0m\u001b[0;34m,\u001b[0m \u001b[0mX_test\u001b[0m\u001b[0;34m,\u001b[0m \u001b[0my_test\u001b[0m\u001b[0;34m,\u001b[0m \u001b[0mclassifiers\u001b[0m\u001b[0;34m)\u001b[0m\u001b[0;34m\u001b[0m\u001b[0;34m\u001b[0m\u001b[0m\n\u001b[0m",
            "\u001b[0;32m<ipython-input-7-661167ad0a91>\u001b[0m in \u001b[0;36mtrain_and_evaluate_models\u001b[0;34m(X_train, y_train, X_test, y_test, classifiers, cv_folds)\u001b[0m\n\u001b[1;32m     22\u001b[0m     \u001b[0;32mfor\u001b[0m \u001b[0mname\u001b[0m\u001b[0;34m,\u001b[0m \u001b[0mclf\u001b[0m \u001b[0;32min\u001b[0m \u001b[0mclassifiers\u001b[0m\u001b[0;34m.\u001b[0m\u001b[0mitems\u001b[0m\u001b[0;34m(\u001b[0m\u001b[0;34m)\u001b[0m\u001b[0;34m:\u001b[0m\u001b[0;34m\u001b[0m\u001b[0;34m\u001b[0m\u001b[0m\n\u001b[1;32m     23\u001b[0m         \u001b[0;31m# Cross-validation với các chỉ số khác nhau\u001b[0m\u001b[0;34m\u001b[0m\u001b[0;34m\u001b[0m\u001b[0m\n\u001b[0;32m---> 24\u001b[0;31m         \u001b[0mcv_accuracy\u001b[0m \u001b[0;34m=\u001b[0m \u001b[0mcross_val_score\u001b[0m\u001b[0;34m(\u001b[0m\u001b[0mclf\u001b[0m\u001b[0;34m,\u001b[0m \u001b[0mX_train\u001b[0m\u001b[0;34m,\u001b[0m \u001b[0my_train\u001b[0m\u001b[0;34m,\u001b[0m \u001b[0mcv\u001b[0m\u001b[0;34m=\u001b[0m\u001b[0mcv\u001b[0m\u001b[0;34m,\u001b[0m \u001b[0mscoring\u001b[0m\u001b[0;34m=\u001b[0m\u001b[0;34m'accuracy'\u001b[0m\u001b[0;34m)\u001b[0m\u001b[0;34m\u001b[0m\u001b[0;34m\u001b[0m\u001b[0m\n\u001b[0m\u001b[1;32m     25\u001b[0m         \u001b[0mcv_precision\u001b[0m \u001b[0;34m=\u001b[0m \u001b[0mcross_val_score\u001b[0m\u001b[0;34m(\u001b[0m\u001b[0mclf\u001b[0m\u001b[0;34m,\u001b[0m \u001b[0mX_train\u001b[0m\u001b[0;34m,\u001b[0m \u001b[0my_train\u001b[0m\u001b[0;34m,\u001b[0m \u001b[0mcv\u001b[0m\u001b[0;34m=\u001b[0m\u001b[0mcv\u001b[0m\u001b[0;34m,\u001b[0m \u001b[0mscoring\u001b[0m\u001b[0;34m=\u001b[0m\u001b[0;34m'precision'\u001b[0m\u001b[0;34m)\u001b[0m\u001b[0;34m\u001b[0m\u001b[0;34m\u001b[0m\u001b[0m\n\u001b[1;32m     26\u001b[0m         \u001b[0mcv_roc_auc\u001b[0m \u001b[0;34m=\u001b[0m \u001b[0mcross_val_score\u001b[0m\u001b[0;34m(\u001b[0m\u001b[0mclf\u001b[0m\u001b[0;34m,\u001b[0m \u001b[0mX_train\u001b[0m\u001b[0;34m,\u001b[0m \u001b[0my_train\u001b[0m\u001b[0;34m,\u001b[0m \u001b[0mcv\u001b[0m\u001b[0;34m=\u001b[0m\u001b[0mcv\u001b[0m\u001b[0;34m,\u001b[0m \u001b[0mscoring\u001b[0m\u001b[0;34m=\u001b[0m\u001b[0;34m'roc_auc'\u001b[0m\u001b[0;34m)\u001b[0m\u001b[0;34m\u001b[0m\u001b[0;34m\u001b[0m\u001b[0m\n",
            "\u001b[0;32m/usr/local/lib/python3.10/dist-packages/sklearn/model_selection/_validation.py\u001b[0m in \u001b[0;36mcross_val_score\u001b[0;34m(estimator, X, y, groups, scoring, cv, n_jobs, verbose, fit_params, pre_dispatch, error_score)\u001b[0m\n\u001b[1;32m    560\u001b[0m     \u001b[0mscorer\u001b[0m \u001b[0;34m=\u001b[0m \u001b[0mcheck_scoring\u001b[0m\u001b[0;34m(\u001b[0m\u001b[0mestimator\u001b[0m\u001b[0;34m,\u001b[0m \u001b[0mscoring\u001b[0m\u001b[0;34m=\u001b[0m\u001b[0mscoring\u001b[0m\u001b[0;34m)\u001b[0m\u001b[0;34m\u001b[0m\u001b[0;34m\u001b[0m\u001b[0m\n\u001b[1;32m    561\u001b[0m \u001b[0;34m\u001b[0m\u001b[0m\n\u001b[0;32m--> 562\u001b[0;31m     cv_results = cross_validate(\n\u001b[0m\u001b[1;32m    563\u001b[0m         \u001b[0mestimator\u001b[0m\u001b[0;34m=\u001b[0m\u001b[0mestimator\u001b[0m\u001b[0;34m,\u001b[0m\u001b[0;34m\u001b[0m\u001b[0;34m\u001b[0m\u001b[0m\n\u001b[1;32m    564\u001b[0m         \u001b[0mX\u001b[0m\u001b[0;34m=\u001b[0m\u001b[0mX\u001b[0m\u001b[0;34m,\u001b[0m\u001b[0;34m\u001b[0m\u001b[0;34m\u001b[0m\u001b[0m\n",
            "\u001b[0;32m/usr/local/lib/python3.10/dist-packages/sklearn/utils/_param_validation.py\u001b[0m in \u001b[0;36mwrapper\u001b[0;34m(*args, **kwargs)\u001b[0m\n\u001b[1;32m    212\u001b[0m                     )\n\u001b[1;32m    213\u001b[0m                 ):\n\u001b[0;32m--> 214\u001b[0;31m                     \u001b[0;32mreturn\u001b[0m \u001b[0mfunc\u001b[0m\u001b[0;34m(\u001b[0m\u001b[0;34m*\u001b[0m\u001b[0margs\u001b[0m\u001b[0;34m,\u001b[0m \u001b[0;34m**\u001b[0m\u001b[0mkwargs\u001b[0m\u001b[0;34m)\u001b[0m\u001b[0;34m\u001b[0m\u001b[0;34m\u001b[0m\u001b[0m\n\u001b[0m\u001b[1;32m    215\u001b[0m             \u001b[0;32mexcept\u001b[0m \u001b[0mInvalidParameterError\u001b[0m \u001b[0;32mas\u001b[0m \u001b[0me\u001b[0m\u001b[0;34m:\u001b[0m\u001b[0;34m\u001b[0m\u001b[0;34m\u001b[0m\u001b[0m\n\u001b[1;32m    216\u001b[0m                 \u001b[0;31m# When the function is just a wrapper around an estimator, we allow\u001b[0m\u001b[0;34m\u001b[0m\u001b[0;34m\u001b[0m\u001b[0m\n",
            "\u001b[0;32m/usr/local/lib/python3.10/dist-packages/sklearn/model_selection/_validation.py\u001b[0m in \u001b[0;36mcross_validate\u001b[0;34m(estimator, X, y, groups, scoring, cv, n_jobs, verbose, fit_params, pre_dispatch, return_train_score, return_estimator, return_indices, error_score)\u001b[0m\n\u001b[1;32m    326\u001b[0m     )\n\u001b[1;32m    327\u001b[0m \u001b[0;34m\u001b[0m\u001b[0m\n\u001b[0;32m--> 328\u001b[0;31m     \u001b[0m_warn_or_raise_about_fit_failures\u001b[0m\u001b[0;34m(\u001b[0m\u001b[0mresults\u001b[0m\u001b[0;34m,\u001b[0m \u001b[0merror_score\u001b[0m\u001b[0;34m)\u001b[0m\u001b[0;34m\u001b[0m\u001b[0;34m\u001b[0m\u001b[0m\n\u001b[0m\u001b[1;32m    329\u001b[0m \u001b[0;34m\u001b[0m\u001b[0m\n\u001b[1;32m    330\u001b[0m     \u001b[0;31m# For callable scoring, the return type is only know after calling. If the\u001b[0m\u001b[0;34m\u001b[0m\u001b[0;34m\u001b[0m\u001b[0m\n",
            "\u001b[0;32m/usr/local/lib/python3.10/dist-packages/sklearn/model_selection/_validation.py\u001b[0m in \u001b[0;36m_warn_or_raise_about_fit_failures\u001b[0;34m(results, error_score)\u001b[0m\n\u001b[1;32m    412\u001b[0m                 \u001b[0;34mf\"Below are more details about the failures:\\n{fit_errors_summary}\"\u001b[0m\u001b[0;34m\u001b[0m\u001b[0;34m\u001b[0m\u001b[0m\n\u001b[1;32m    413\u001b[0m             )\n\u001b[0;32m--> 414\u001b[0;31m             \u001b[0;32mraise\u001b[0m \u001b[0mValueError\u001b[0m\u001b[0;34m(\u001b[0m\u001b[0mall_fits_failed_message\u001b[0m\u001b[0;34m)\u001b[0m\u001b[0;34m\u001b[0m\u001b[0;34m\u001b[0m\u001b[0m\n\u001b[0m\u001b[1;32m    415\u001b[0m \u001b[0;34m\u001b[0m\u001b[0m\n\u001b[1;32m    416\u001b[0m         \u001b[0;32melse\u001b[0m\u001b[0;34m:\u001b[0m\u001b[0;34m\u001b[0m\u001b[0;34m\u001b[0m\u001b[0m\n",
            "\u001b[0;31mValueError\u001b[0m: \nAll the 5 fits failed.\nIt is very likely that your model is misconfigured.\nYou can try to debug the error by setting error_score='raise'.\n\nBelow are more details about the failures:\n--------------------------------------------------------------------------------\n1 fits failed with the following error:\nTraceback (most recent call last):\n  File \"/usr/local/lib/python3.10/dist-packages/sklearn/model_selection/_validation.py\", line 729, in _fit_and_score\n    estimator.fit(X_train, y_train, **fit_params)\n  File \"/usr/local/lib/python3.10/dist-packages/xgboost/core.py\", line 726, in inner_f\n    return func(**kwargs)\n  File \"/usr/local/lib/python3.10/dist-packages/xgboost/sklearn.py\", line 1531, in fit\n    self._Booster = train(\n  File \"/usr/local/lib/python3.10/dist-packages/xgboost/core.py\", line 726, in inner_f\n    return func(**kwargs)\n  File \"/usr/local/lib/python3.10/dist-packages/xgboost/training.py\", line 181, in train\n    bst.update(dtrain, iteration=i, fobj=obj)\n  File \"/usr/local/lib/python3.10/dist-packages/xgboost/core.py\", line 2100, in update\n    _check_call(\n  File \"/usr/local/lib/python3.10/dist-packages/xgboost/core.py\", line 284, in _check_call\n    raise XGBoostError(py_str(_LIB.XGBGetLastError()))\nxgboost.core.XGBoostError: [18:59:26] /workspace/src/tree/updater_gpu_hist.cu:861: Exception in gpu_hist: [18:59:26] /workspace/src/tree/updater_gpu_hist.cu:867: Check failed: ctx_->Ordinal() >= 0 (-1 vs. 0) : Must have at least one device\nStack trace:\n  [bt] (0) /usr/local/lib/python3.10/dist-packages/xgboost/lib/libxgboost.so(+0x22dbbc) [0x7e607da2dbbc]\n  [bt] (1) /usr/local/lib/python3.10/dist-packages/xgboost/lib/libxgboost.so(+0xd2b4c3) [0x7e607e52b4c3]\n  [bt] (2) /usr/local/lib/python3.10/dist-packages/xgboost/lib/libxgboost.so(+0xd2bf84) [0x7e607e52bf84]\n  [bt] (3) /usr/local/lib/python3.10/dist-packages/xgboost/lib/libxgboost.so(+0x57f196) [0x7e607dd7f196]\n  [bt] (4) /usr/local/lib/python3.10/dist-packages/xgboost/lib/libxgboost.so(+0x580564) [0x7e607dd80564]\n  [bt] (5) /usr/local/lib/python3.10/dist-packages/xgboost/lib/libxgboost.so(+0x5cae68) [0x7e607ddcae68]\n  [bt] (6) /usr/local/lib/python3.10/dist-packages/xgboost/lib/libxgboost.so(XGBoosterUpdateOneIter+0x6f) [0x7e607d93742f]\n  [bt] (7) /lib/x86_64-linux-gnu/libffi.so.8(+0x7e2e) [0x7e60e8ab3e2e]\n  [bt] (8) /lib/x86_64-linux-gnu/libffi.so.8(+0x4493) [0x7e60e8ab0493]\n\n\n\nStack trace:\n  [bt] (0) /usr/local/lib/python3.10/dist-packages/xgboost/lib/libxgboost.so(+0x22dbbc) [0x7e607da2dbbc]\n  [bt] (1) /usr/local/lib/python3.10/dist-packages/xgboost/lib/libxgboost.so(+0xd2c154) [0x7e607e52c154]\n  [bt] (2) /usr/local/lib/python3.10/dist-packages/xgboost/lib/libxgboost.so(+0x57f196) [0x7e607dd7f196]\n  [bt] (3) /usr/local/lib/python3.10/dist-packages/xgboost/lib/libxgboost.so(+0x580564) [0x7e607dd80564]\n  [bt] (4) /usr/local/lib/python3.10/dist-packages/xgboost/lib/libxgboost.so(+0x5cae68) [0x7e607ddcae68]\n  [bt] (5) /usr/local/lib/python3.10/dist-packages/xgboost/lib/libxgboost.so(XGBoosterUpdateOneIter+0x6f) [0x7e607d93742f]\n  [bt] (6) /lib/x86_64-linux-gnu/libffi.so.8(+0x7e2e) [0x7e60e8ab3e2e]\n  [bt] (7) /lib/x86_64-linux-gnu/libffi.so.8(+0x4493) [0x7e60e8ab0493]\n  [bt] (8) /usr/lib/python3.10/lib-dynload/_ctypes.cpython-310-x86_64-linux-gnu.so(+0xa3e9) [0x7e60e8ad93e9]\n\n\n\n--------------------------------------------------------------------------------\n1 fits failed with the following error:\nTraceback (most recent call last):\n  File \"/usr/local/lib/python3.10/dist-packages/sklearn/model_selection/_validation.py\", line 729, in _fit_and_score\n    estimator.fit(X_train, y_train, **fit_params)\n  File \"/usr/local/lib/python3.10/dist-packages/xgboost/core.py\", line 726, in inner_f\n    return func(**kwargs)\n  File \"/usr/local/lib/python3.10/dist-packages/xgboost/sklearn.py\", line 1531, in fit\n    self._Booster = train(\n  File \"/usr/local/lib/python3.10/dist-packages/xgboost/core.py\", line 726, in inner_f\n    return func(**kwargs)\n  File \"/usr/local/lib/python3.10/dist-packages/xgboost/training.py\", line 181, in train\n    bst.update(dtrain, iteration=i, fobj=obj)\n  File \"/usr/local/lib/python3.10/dist-packages/xgboost/core.py\", line 2100, in update\n    _check_call(\n  File \"/usr/local/lib/python3.10/dist-packages/xgboost/core.py\", line 284, in _check_call\n    raise XGBoostError(py_str(_LIB.XGBGetLastError()))\nxgboost.core.XGBoostError: [18:59:27] /workspace/src/tree/updater_gpu_hist.cu:861: Exception in gpu_hist: [18:59:27] /workspace/src/tree/updater_gpu_hist.cu:867: Check failed: ctx_->Ordinal() >= 0 (-1 vs. 0) : Must have at least one device\nStack trace:\n  [bt] (0) /usr/local/lib/python3.10/dist-packages/xgboost/lib/libxgboost.so(+0x22dbbc) [0x7e607da2dbbc]\n  [bt] (1) /usr/local/lib/python3.10/dist-packages/xgboost/lib/libxgboost.so(+0xd2b4c3) [0x7e607e52b4c3]\n  [bt] (2) /usr/local/lib/python3.10/dist-packages/xgboost/lib/libxgboost.so(+0xd2bf84) [0x7e607e52bf84]\n  [bt] (3) /usr/local/lib/python3.10/dist-packages/xgboost/lib/libxgboost.so(+0x57f196) [0x7e607dd7f196]\n  [bt] (4) /usr/local/lib/python3.10/dist-packages/xgboost/lib/libxgboost.so(+0x580564) [0x7e607dd80564]\n  [bt] (5) /usr/local/lib/python3.10/dist-packages/xgboost/lib/libxgboost.so(+0x5cae68) [0x7e607ddcae68]\n  [bt] (6) /usr/local/lib/python3.10/dist-packages/xgboost/lib/libxgboost.so(XGBoosterUpdateOneIter+0x6f) [0x7e607d93742f]\n  [bt] (7) /lib/x86_64-linux-gnu/libffi.so.8(+0x7e2e) [0x7e60e8ab3e2e]\n  [bt] (8) /lib/x86_64-linux-gnu/libffi.so.8(+0x4493) [0x7e60e8ab0493]\n\n\n\nStack trace:\n  [bt] (0) /usr/local/lib/python3.10/dist-packages/xgboost/lib/libxgboost.so(+0x22dbbc) [0x7e607da2dbbc]\n  [bt] (1) /usr/local/lib/python3.10/dist-packages/xgboost/lib/libxgboost.so(+0xd2c154) [0x7e607e52c154]\n  [bt] (2) /usr/local/lib/python3.10/dist-packages/xgboost/lib/libxgboost.so(+0x57f196) [0x7e607dd7f196]\n  [bt] (3) /usr/local/lib/python3.10/dist-packages/xgboost/lib/libxgboost.so(+0x580564) [0x7e607dd80564]\n  [bt] (4) /usr/local/lib/python3.10/dist-packages/xgboost/lib/libxgboost.so(+0x5cae68) [0x7e607ddcae68]\n  [bt] (5) /usr/local/lib/python3.10/dist-packages/xgboost/lib/libxgboost.so(XGBoosterUpdateOneIter+0x6f) [0x7e607d93742f]\n  [bt] (6) /lib/x86_64-linux-gnu/libffi.so.8(+0x7e2e) [0x7e60e8ab3e2e]\n  [bt] (7) /lib/x86_64-linux-gnu/libffi.so.8(+0x4493) [0x7e60e8ab0493]\n  [bt] (8) /usr/lib/python3.10/lib-dynload/_ctypes.cpython-310-x86_64-linux-gnu.so(+0xa3e9) [0x7e60e8ad93e9]\n\n\n\n--------------------------------------------------------------------------------\n1 fits failed with the following error:\nTraceback (most recent call last):\n  File \"/usr/local/lib/python3.10/dist-packages/sklearn/model_selection/_validation.py\", line 729, in _fit_and_score\n    estimator.fit(X_train, y_train, **fit_params)\n  File \"/usr/local/lib/python3.10/dist-packages/xgboost/core.py\", line 726, in inner_f\n    return func(**kwargs)\n  File \"/usr/local/lib/python3.10/dist-packages/xgboost/sklearn.py\", line 1531, in fit\n    self._Booster = train(\n  File \"/usr/local/lib/python3.10/dist-packages/xgboost/core.py\", line 726, in inner_f\n    return func(**kwargs)\n  File \"/usr/local/lib/python3.10/dist-packages/xgboost/training.py\", line 181, in train\n    bst.update(dtrain, iteration=i, fobj=obj)\n  File \"/usr/local/lib/python3.10/dist-packages/xgboost/core.py\", line 2100, in update\n    _check_call(\n  File \"/usr/local/lib/python3.10/dist-packages/xgboost/core.py\", line 284, in _check_call\n    raise XGBoostError(py_str(_LIB.XGBGetLastError()))\nxgboost.core.XGBoostError: [18:59:29] /workspace/src/tree/updater_gpu_hist.cu:861: Exception in gpu_hist: [18:59:29] /workspace/src/tree/updater_gpu_hist.cu:867: Check failed: ctx_->Ordinal() >= 0 (-1 vs. 0) : Must have at least one device\nStack trace:\n  [bt] (0) /usr/local/lib/python3.10/dist-packages/xgboost/lib/libxgboost.so(+0x22dbbc) [0x7e607da2dbbc]\n  [bt] (1) /usr/local/lib/python3.10/dist-packages/xgboost/lib/libxgboost.so(+0xd2b4c3) [0x7e607e52b4c3]\n  [bt] (2) /usr/local/lib/python3.10/dist-packages/xgboost/lib/libxgboost.so(+0xd2bf84) [0x7e607e52bf84]\n  [bt] (3) /usr/local/lib/python3.10/dist-packages/xgboost/lib/libxgboost.so(+0x57f196) [0x7e607dd7f196]\n  [bt] (4) /usr/local/lib/python3.10/dist-packages/xgboost/lib/libxgboost.so(+0x580564) [0x7e607dd80564]\n  [bt] (5) /usr/local/lib/python3.10/dist-packages/xgboost/lib/libxgboost.so(+0x5cae68) [0x7e607ddcae68]\n  [bt] (6) /usr/local/lib/python3.10/dist-packages/xgboost/lib/libxgboost.so(XGBoosterUpdateOneIter+0x6f) [0x7e607d93742f]\n  [bt] (7) /lib/x86_64-linux-gnu/libffi.so.8(+0x7e2e) [0x7e60e8ab3e2e]\n  [bt] (8) /lib/x86_64-linux-gnu/libffi.so.8(+0x4493) [0x7e60e8ab0493]\n\n\n\nStack trace:\n  [bt] (0) /usr/local/lib/python3.10/dist-packages/xgboost/lib/libxgboost.so(+0x22dbbc) [0x7e607da2dbbc]\n  [bt] (1) /usr/local/lib/python3.10/dist-packages/xgboost/lib/libxgboost.so(+0xd2c154) [0x7e607e52c154]\n  [bt] (2) /usr/local/lib/python3.10/dist-packages/xgboost/lib/libxgboost.so(+0x57f196) [0x7e607dd7f196]\n  [bt] (3) /usr/local/lib/python3.10/dist-packages/xgboost/lib/libxgboost.so(+0x580564) [0x7e607dd80564]\n  [bt] (4) /usr/local/lib/python3.10/dist-packages/xgboost/lib/libxgboost.so(+0x5cae68) [0x7e607ddcae68]\n  [bt] (5) /usr/local/lib/python3.10/dist-packages/xgboost/lib/libxgboost.so(XGBoosterUpdateOneIter+0x6f) [0x7e607d93742f]\n  [bt] (6) /lib/x86_64-linux-gnu/libffi.so.8(+0x7e2e) [0x7e60e8ab3e2e]\n  [bt] (7) /lib/x86_64-linux-gnu/libffi.so.8(+0x4493) [0x7e60e8ab0493]\n  [bt] (8) /usr/lib/python3.10/lib-dynload/_ctypes.cpython-310-x86_64-linux-gnu.so(+0xa3e9) [0x7e60e8ad93e9]\n\n\n\n--------------------------------------------------------------------------------\n1 fits failed with the following error:\nTraceback (most recent call last):\n  File \"/usr/local/lib/python3.10/dist-packages/sklearn/model_selection/_validation.py\", line 729, in _fit_and_score\n    estimator.fit(X_train, y_train, **fit_params)\n  File \"/usr/local/lib/python3.10/dist-packages/xgboost/core.py\", line 726, in inner_f\n    return func(**kwargs)\n  File \"/usr/local/lib/python3.10/dist-packages/xgboost/sklearn.py\", line 1531, in fit\n    self._Booster = train(\n  File \"/usr/local/lib/python3.10/dist-packages/xgboost/core.py\", line 726, in inner_f\n    return func(**kwargs)\n  File \"/usr/local/lib/python3.10/dist-packages/xgboost/training.py\", line 181, in train\n    bst.update(dtrain, iteration=i, fobj=obj)\n  File \"/usr/local/lib/python3.10/dist-packages/xgboost/core.py\", line 2100, in update\n    _check_call(\n  File \"/usr/local/lib/python3.10/dist-packages/xgboost/core.py\", line 284, in _check_call\n    raise XGBoostError(py_str(_LIB.XGBGetLastError()))\nxgboost.core.XGBoostError: [18:59:30] /workspace/src/tree/updater_gpu_hist.cu:861: Exception in gpu_hist: [18:59:30] /workspace/src/tree/updater_gpu_hist.cu:867: Check failed: ctx_->Ordinal() >= 0 (-1 vs. 0) : Must have at least one device\nStack trace:\n  [bt] (0) /usr/local/lib/python3.10/dist-packages/xgboost/lib/libxgboost.so(+0x22dbbc) [0x7e607da2dbbc]\n  [bt] (1) /usr/local/lib/python3.10/dist-packages/xgboost/lib/libxgboost.so(+0xd2b4c3) [0x7e607e52b4c3]\n  [bt] (2) /usr/local/lib/python3.10/dist-packages/xgboost/lib/libxgboost.so(+0xd2bf84) [0x7e607e52bf84]\n  [bt] (3) /usr/local/lib/python3.10/dist-packages/xgboost/lib/libxgboost.so(+0x57f196) [0x7e607dd7f196]\n  [bt] (4) /usr/local/lib/python3.10/dist-packages/xgboost/lib/libxgboost.so(+0x580564) [0x7e607dd80564]\n  [bt] (5) /usr/local/lib/python3.10/dist-packages/xgboost/lib/libxgboost.so(+0x5cae68) [0x7e607ddcae68]\n  [bt] (6) /usr/local/lib/python3.10/dist-packages/xgboost/lib/libxgboost.so(XGBoosterUpdateOneIter+0x6f) [0x7e607d93742f]\n  [bt] (7) /lib/x86_64-linux-gnu/libffi.so.8(+0x7e2e) [0x7e60e8ab3e2e]\n  [bt] (8) /lib/x86_64-linux-gnu/libffi.so.8(+0x4493) [0x7e60e8ab0493]\n\n\n\nStack trace:\n  [bt] (0) /usr/local/lib/python3.10/dist-packages/xgboost/lib/libxgboost.so(+0x22dbbc) [0x7e607da2dbbc]\n  [bt] (1) /usr/local/lib/python3.10/dist-packages/xgboost/lib/libxgboost.so(+0xd2c154) [0x7e607e52c154]\n  [bt] (2) /usr/local/lib/python3.10/dist-packages/xgboost/lib/libxgboost.so(+0x57f196) [0x7e607dd7f196]\n  [bt] (3) /usr/local/lib/python3.10/dist-packages/xgboost/lib/libxgboost.so(+0x580564) [0x7e607dd80564]\n  [bt] (4) /usr/local/lib/python3.10/dist-packages/xgboost/lib/libxgboost.so(+0x5cae68) [0x7e607ddcae68]\n  [bt] (5) /usr/local/lib/python3.10/dist-packages/xgboost/lib/libxgboost.so(XGBoosterUpdateOneIter+0x6f) [0x7e607d93742f]\n  [bt] (6) /lib/x86_64-linux-gnu/libffi.so.8(+0x7e2e) [0x7e60e8ab3e2e]\n  [bt] (7) /lib/x86_64-linux-gnu/libffi.so.8(+0x4493) [0x7e60e8ab0493]\n  [bt] (8) /usr/lib/python3.10/lib-dynload/_ctypes.cpython-310-x86_64-linux-gnu.so(+0xa3e9) [0x7e60e8ad93e9]\n\n\n\n--------------------------------------------------------------------------------\n1 fits failed with the following error:\nTraceback (most recent call last):\n  File \"/usr/local/lib/python3.10/dist-packages/sklearn/model_selection/_validation.py\", line 729, in _fit_and_score\n    estimator.fit(X_train, y_train, **fit_params)\n  File \"/usr/local/lib/python3.10/dist-packages/xgboost/core.py\", line 726, in inner_f\n    return func(**kwargs)\n  File \"/usr/local/lib/python3.10/dist-packages/xgboost/sklearn.py\", line 1531, in fit\n    self._Booster = train(\n  File \"/usr/local/lib/python3.10/dist-packages/xgboost/core.py\", line 726, in inner_f\n    return func(**kwargs)\n  File \"/usr/local/lib/python3.10/dist-packages/xgboost/training.py\", line 181, in train\n    bst.update(dtrain, iteration=i, fobj=obj)\n  File \"/usr/local/lib/python3.10/dist-packages/xgboost/core.py\", line 2100, in update\n    _check_call(\n  File \"/usr/local/lib/python3.10/dist-packages/xgboost/core.py\", line 284, in _check_call\n    raise XGBoostError(py_str(_LIB.XGBGetLastError()))\nxgboost.core.XGBoostError: [18:59:32] /workspace/src/tree/updater_gpu_hist.cu:861: Exception in gpu_hist: [18:59:32] /workspace/src/tree/updater_gpu_hist.cu:867: Check failed: ctx_->Ordinal() >= 0 (-1 vs. 0) : Must have at least one device\nStack trace:\n  [bt] (0) /usr/local/lib/python3.10/dist-packages/xgboost/lib/libxgboost.so(+0x22dbbc) [0x7e607da2dbbc]\n  [bt] (1) /usr/local/lib/python3.10/dist-packages/xgboost/lib/libxgboost.so(+0xd2b4c3) [0x7e607e52b4c3]\n  [bt] (2) /usr/local/lib/python3.10/dist-packages/xgboost/lib/libxgboost.so(+0xd2bf84) [0x7e607e52bf84]\n  [bt] (3) /usr/local/lib/python3.10/dist-packages/xgboost/lib/libxgboost.so(+0x57f196) [0x7e607dd7f196]\n  [bt] (4) /usr/local/lib/python3.10/dist-packages/xgboost/lib/libxgboost.so(+0x580564) [0x7e607dd80564]\n  [bt] (5) /usr/local/lib/python3.10/dist-packages/xgboost/lib/libxgboost.so(+0x5cae68) [0x7e607ddcae68]\n  [bt] (6) /usr/local/lib/python3.10/dist-packages/xgboost/lib/libxgboost.so(XGBoosterUpdateOneIter+0x6f) [0x7e607d93742f]\n  [bt] (7) /lib/x86_64-linux-gnu/libffi.so.8(+0x7e2e) [0x7e60e8ab3e2e]\n  [bt] (8) /lib/x86_64-linux-gnu/libffi.so.8(+0x4493) [0x7e60e8ab0493]\n\n\n\nStack trace:\n  [bt] (0) /usr/local/lib/python3.10/dist-packages/xgboost/lib/libxgboost.so(+0x22dbbc) [0x7e607da2dbbc]\n  [bt] (1) /usr/local/lib/python3.10/dist-packages/xgboost/lib/libxgboost.so(+0xd2c154) [0x7e607e52c154]\n  [bt] (2) /usr/local/lib/python3.10/dist-packages/xgboost/lib/libxgboost.so(+0x57f196) [0x7e607dd7f196]\n  [bt] (3) /usr/local/lib/python3.10/dist-packages/xgboost/lib/libxgboost.so(+0x580564) [0x7e607dd80564]\n  [bt] (4) /usr/local/lib/python3.10/dist-packages/xgboost/lib/libxgboost.so(+0x5cae68) [0x7e607ddcae68]\n  [bt] (5) /usr/local/lib/python3.10/dist-packages/xgboost/lib/libxgboost.so(XGBoosterUpdateOneIter+0x6f) [0x7e607d93742f]\n  [bt] (6) /lib/x86_64-linux-gnu/libffi.so.8(+0x7e2e) [0x7e60e8ab3e2e]\n  [bt] (7) /lib/x86_64-linux-gnu/libffi.so.8(+0x4493) [0x7e60e8ab0493]\n  [bt] (8) /usr/lib/python3.10/lib-dynload/_ctypes.cpython-310-x86_64-linux-gnu.so(+0xa3e9) [0x7e60e8ad93e9]\n\n\n"
          ]
        }
      ],
      "source": [
        "classifiers = {\n",
        "    \"Logistic Regression\": LogisticRegression(C=1.0, max_iter=1000, solver='liblinear'),\n",
        "    \"Decision Tree\": DecisionTreeClassifier(max_depth=None, min_samples_split=2),\n",
        "    \"Random Forest Classifier\": RandomForestClassifier(n_estimators=100, max_features='sqrt', max_depth=None, min_samples_split=2, n_jobs=-1),\n",
        "    \"XGBoost\": xgb.XGBClassifier(n_estimators=100, max_depth=6, learning_rate=0.1, eval_metric='logloss'), # Removed unused parameter\n",
        "    # \"Support Vector Classifier\": SVC(C=1.0, kernel='rbf', probability=True)\n",
        "}\n",
        "\n",
        "def train_and_evaluate_models(X_train, y_train, X_test, y_test, classifiers, cv_folds=5):\n",
        "    # Khởi tạo cross-validation\n",
        "    cv = StratifiedKFold(n_splits=cv_folds, shuffle=True, random_state=42)\n",
        "\n",
        "    # Huấn luyện và đánh giá từng mô hình\n",
        "    for name, clf in classifiers.items():\n",
        "        # Cross-validation với các chỉ số khác nhau\n",
        "        cv_accuracy = cross_val_score(clf, X_train, y_train, cv=cv, scoring='accuracy')\n",
        "        cv_precision = cross_val_score(clf, X_train, y_train, cv=cv, scoring='precision')\n",
        "        cv_roc_auc = cross_val_score(clf, X_train, y_train, cv=cv, scoring='roc_auc')\n",
        "        cv_f1 = cross_val_score(clf, X_train, y_train, cv=cv, scoring='f1')\n",
        "        cv_recall = cross_val_score(clf, X_train, y_train, cv=cv, scoring='recall')\n",
        "\n",
        "        start_time = time.time()\n",
        "        # Huấn luyện trên toàn bộ tập huấn luyện\n",
        "        clf.fit(X_train, y_train)\n",
        "        end_time = time.time()\n",
        "        training_time = end_time - start_time\n",
        "        # Dự đoán trên tập kiểm tra\n",
        "        y_pred = clf.predict(X_test)\n",
        "        y_pred_proba = clf.predict_proba(X_test)[:, 1]\n",
        "\n",
        "        # Đánh giá trên tập kiểm tra\n",
        "        accuracy = accuracy_score(y_test, y_pred)\n",
        "        precision = precision_score(y_test, y_pred)\n",
        "        roc_auc = roc_auc_score(y_test, y_pred_proba)\n",
        "        f1 = f1_score(y_test, y_pred)\n",
        "        recall = recall_score(y_test, y_pred)\n",
        "\n",
        "        # In kết quả\n",
        "        print(f\"Model: {name}\")\n",
        "        print(f\"Cross-Validation Accuracy: {cv_accuracy.mean():.4f}\")\n",
        "        print(f\"Cross-Validation Precision: {cv_precision.mean():.4f}\")\n",
        "        print(f\"Cross-Validation ROC AUC: {cv_roc_auc.mean():.4f}\")\n",
        "        print(f\"Cross-Validation F1 Score: {cv_f1.mean():.4f}\")\n",
        "        print(f\"Cross-Validation Recall: {cv_recall.mean():.4f}\")\n",
        "        print(f\"Training Time: {training_time:.4f} seconds\")\n",
        "        print(f\"Test Set Accuracy: {accuracy:.4f}\")\n",
        "        print(f\"Test Set ROC AUC: {roc_auc:.4f}\")\n",
        "        print(f\"Test Set F1 Score: {f1:.4f}\")\n",
        "        print(f\"Test Set Recall: {recall:.4f}\")\n",
        "        print(\"-\" * 30)\n",
        "\n",
        "train_and_evaluate_models(X_train, y_train, X_test, y_test, classifiers)"
      ]
    },
    {
      "cell_type": "code",
      "execution_count": null,
      "metadata": {
        "colab": {
          "base_uri": "https://localhost:8080/"
        },
        "id": "J79g3BiT0x0L",
        "outputId": "cbc9a63e-601b-4179-95bc-a0166ec4769e"
      },
      "outputs": [
        {
          "name": "stdout",
          "output_type": "stream",
          "text": [
            "Model: XGBoost\n",
            "Cross-Validation Accuracy: 0.9996\n",
            "Cross-Validation Precision: 0.9459\n",
            "Cross-Validation ROC AUC: 0.9765\n",
            "Cross-Validation F1 Score: 0.8678\n",
            "Cross-Validation Recall: 0.8023\n",
            "Training Time: 3.5510 seconds\n",
            "Test Set Accuracy: 0.9995\n",
            "Test Set ROC AUC: 0.9673\n",
            "Test Set F1 Score: 0.8485\n",
            "Test Set Recall: 0.7568\n",
            "------------------------------\n"
          ]
        }
      ],
      "source": [
        "new_classifiers = {\n",
        "      \"XGBoost\": xgb.XGBClassifier(n_estimators=100, max_depth=6, learning_rate=0.1, eval_metric='logloss'), # Removed unused parameter\n",
        "}\n",
        "train_and_evaluate_models(X_train, y_train, X_test, y_test, new_classifiers)"
      ]
    },
    {
      "cell_type": "markdown",
      "metadata": {
        "id": "DQ3spwZstYxS"
      },
      "source": [
        "#Dùng các phương thức resampling"
      ]
    },
    {
      "cell_type": "code",
      "execution_count": 9,
      "metadata": {
        "id": "6msK5gEVCq3L"
      },
      "outputs": [],
      "source": [
        "def train_and_evaluate_resampling_models(X_train, y_train, X_test, y_test, classifiers, resampling_methods, cv_folds=5):\n",
        "    # Khởi tạo cross-validation\n",
        "    cv = StratifiedKFold(n_splits=cv_folds, shuffle=True, random_state=42)\n",
        "\n",
        "    for resampling_name, resampler in resampling_methods.items():\n",
        "        print(f\"Resampling method: {resampling_name}\")\n",
        "\n",
        "        # Huấn luyện và đánh giá từng mô hình\n",
        "        for name, clf in classifiers.items():\n",
        "            # Tạo pipeline với resampling và classifier\n",
        "            pipeline = Pipeline([\n",
        "                ('resampling', resampler),\n",
        "                ('classification', clf)\n",
        "            ])\n",
        "\n",
        "            # Cross-validation với các chỉ số khác nhau\n",
        "            cv_accuracy = cross_val_score(pipeline, X_train, y_train, cv=cv, scoring='accuracy')\n",
        "            cv_precision = cross_val_score(pipeline, X_train, y_train, cv=cv, scoring='precision')\n",
        "            cv_roc_auc = cross_val_score(pipeline, X_train, y_train, cv=cv, scoring='roc_auc')\n",
        "            cv_f1 = cross_val_score(pipeline, X_train, y_train, cv=cv, scoring='f1')\n",
        "            cv_recall = cross_val_score(pipeline, X_train, y_train, cv=cv, scoring='recall')\n",
        "\n",
        "            start_time = time.time()\n",
        "            # Huấn luyện trên toàn bộ tập huấn luyện với resampling\n",
        "            pipeline.fit(X_train, y_train)\n",
        "            end_time = time.time()\n",
        "            training_time = end_time - start_time\n",
        "\n",
        "            # Dự đoán trên tập kiểm tra\n",
        "            y_pred = pipeline.predict(X_test)\n",
        "            y_pred_proba = pipeline.predict_proba(X_test)[:, 1]\n",
        "\n",
        "            # Đánh giá trên tập kiểm tra\n",
        "            accuracy = accuracy_score(y_test, y_pred)\n",
        "            precision = precision_score(y_test, y_pred)\n",
        "            roc_auc = roc_auc_score(y_test, y_pred_proba)\n",
        "            f1 = f1_score(y_test, y_pred)\n",
        "            recall = recall_score(y_test, y_pred)\n",
        "\n",
        "            # In kết quả\n",
        "            print(f\"Model: {name}\")\n",
        "            print(f\"Cross-Validation Accuracy: {cv_accuracy.mean():.4f}\")\n",
        "            print(f\"Cross-Validation Precision: {cv_precision.mean():.4f}\")\n",
        "            print(f\"Cross-Validation ROC AUC: {cv_roc_auc.mean():.4f}\")\n",
        "            print(f\"Cross-Validation F1 Score: {cv_f1.mean():.4f}\")\n",
        "            print(f\"Cross-Validation Recall: {cv_recall.mean():.4f}\")\n",
        "            print(f\"Training Time: {training_time:.4f} seconds\")\n",
        "            print(f\"Test Set Accuracy: {accuracy:.4f}\")\n",
        "            print(f\"Test Set ROC AUC: {roc_auc:.4f}\")\n",
        "            print(f\"Test Set F1 Score: {f1:.4f}\")\n",
        "            print(f\"Test Set Recall: {recall:.4f}\")\n",
        "            print(\"-\" * 30)\n",
        "        print(\"=\" * 60)\n"
      ]
    },
    {
      "cell_type": "code",
      "execution_count": null,
      "metadata": {
        "colab": {
          "base_uri": "https://localhost:8080/"
        },
        "id": "oJL78Ps3C9jz",
        "outputId": "396ef352-7d6e-4be8-fbfa-6e33fed2f3b1"
      },
      "outputs": [
        {
          "output_type": "stream",
          "name": "stdout",
          "text": [
            "Resampling method: Tomek Links\n"
          ]
        }
      ],
      "source": [
        "\n",
        "classifiers = {\n",
        "    \"Logistic Regression\": LogisticRegression(C=1.0, max_iter=1000, solver='liblinear'),\n",
        "    \"Decision Tree\": DecisionTreeClassifier(max_depth=None, min_samples_split=2),\n",
        "    \"XGBoost\": xgb.XGBClassifier(n_estimators=100, max_depth=6, learning_rate=0.1, eval_metric='logloss'), # Removed unused parameter\n",
        "    \"Random Forest Classifier\": RandomForestClassifier(n_estimators=100, max_features='sqrt', max_depth=None, min_samples_split=2, n_jobs=-1),\n",
        "    # \"Support Vector Classifier\": SVC(C=1.0, kernel='rbf', probability=True)\n",
        "}\n",
        "resampling_methods = {\n",
        "    'Tomek Links': TomekLinks(sampling_strategy='auto'),\n",
        "    'Random Undersampling': RandomUnderSampler(sampling_strategy=0.5),\n",
        "    'Near Miss': NearMiss(sampling_strategy=0.5),\n",
        "    'SMOTE': SMOTE(sampling_strategy=0.5),\n",
        "    'Random Oversampling': RandomOverSampler(sampling_strategy=0.5),\n",
        "    'ADASYN': ADASYN(sampling_strategy=0.5)\n",
        "}\n",
        "train_and_evaluate_resampling_models(X_train, y_train, X_test, y_test, classifiers, resampling_methods)"
      ]
    },
    {
      "cell_type": "code",
      "source": [
        "#continue\n",
        "continue_classifier = {\n",
        "    \"XGBoost\": xgb.XGBClassifier(n_estimators=100, max_depth=6, learning_rate=0.1, eval_metric='logloss'), # Removed unused parameter\n",
        "    \"Random Forest Classifier\": RandomForestClassifier(n_estimators=100, max_features='sqrt', max_depth=None, min_samples_split=2, n_jobs=-1),\n",
        "}\n",
        "continue_resampling_methods = {\n",
        "      'SMOTE': SMOTE(sampling_strategy=0.5),\n",
        "}\n",
        "train_and_evaluate_resampling_models(X_train, y_train, X_test, y_test, continue_classifier, continue_resampling_methods)\n",
        "\n"
      ],
      "metadata": {
        "colab": {
          "base_uri": "https://localhost:8080/"
        },
        "id": "cWxpW31hk3e6",
        "outputId": "b4401a93-bd99-49d9-8c3a-2af5a140eaa9"
      },
      "execution_count": 11,
      "outputs": [
        {
          "output_type": "stream",
          "name": "stdout",
          "text": [
            "Resampling method: SMOTE\n",
            "Model: XGBoost\n",
            "Cross-Validation Accuracy: 0.9986\n",
            "Cross-Validation Precision: 0.5596\n",
            "Cross-Validation ROC AUC: 0.9758\n",
            "Cross-Validation F1 Score: 0.6700\n",
            "Cross-Validation Recall: 0.8459\n",
            "Training Time: 5.9038 seconds\n",
            "Test Set Accuracy: 0.9982\n",
            "Test Set ROC AUC: 0.9714\n",
            "Test Set F1 Score: 0.6165\n",
            "Test Set Recall: 0.8311\n",
            "------------------------------\n",
            "Model: Random Forest Classifier\n",
            "Cross-Validation Accuracy: 0.9995\n",
            "Cross-Validation Precision: 0.8907\n",
            "Cross-Validation ROC AUC: 0.9701\n",
            "Cross-Validation F1 Score: 0.8576\n",
            "Cross-Validation Recall: 0.8314\n",
            "Training Time: 275.9082 seconds\n",
            "Test Set Accuracy: 0.9995\n",
            "Test Set ROC AUC: 0.9654\n",
            "Test Set F1 Score: 0.8399\n",
            "Test Set Recall: 0.7973\n",
            "------------------------------\n",
            "============================================================\n"
          ]
        }
      ]
    },
    {
      "cell_type": "code",
      "source": [
        "classifiers = {\n",
        "    \"Logistic Regression\": LogisticRegression(C=1.0, max_iter=1000, solver='liblinear'),\n",
        "    \"Decision Tree\": DecisionTreeClassifier(max_depth=None, min_samples_split=2),\n",
        "    \"XGBoost\": xgb.XGBClassifier(n_estimators=100, max_depth=6, learning_rate=0.1, eval_metric='logloss'), # Removed unused parameter\n",
        "    \"Random Forest Classifier\": RandomForestClassifier(n_estimators=100, max_features='sqrt', max_depth=None, min_samples_split=2, n_jobs=-1),\n",
        "    # \"Support Vector Classifier\": SVC(C=1.0, kernel='rbf', probability=True)\n",
        "}\n",
        "next_resampling = {\n",
        "    'Random Oversampling': RandomOverSampler(sampling_strategy=0.5),\n",
        "    'ADASYN': ADASYN(sampling_strategy=0.5),\n",
        "}\n",
        "train_and_evaluate_resampling_models(X_train, y_train, X_test, y_test, classifiers, next_resampling)"
      ],
      "metadata": {
        "colab": {
          "base_uri": "https://localhost:8080/"
        },
        "id": "oHEN1T_6AlmH",
        "outputId": "05fc0198-8ccb-4f82-8acf-468dc5c7a674"
      },
      "execution_count": 11,
      "outputs": [
        {
          "output_type": "stream",
          "name": "stdout",
          "text": [
            "Resampling method: Random Oversampling\n",
            "Model: Logistic Regression\n",
            "Cross-Validation Accuracy: 0.9891\n",
            "Cross-Validation Precision: 0.1278\n",
            "Cross-Validation ROC AUC: 0.9826\n",
            "Cross-Validation F1 Score: 0.2229\n",
            "Cross-Validation Recall: 0.9098\n",
            "Training Time: 5.6352 seconds\n",
            "Test Set Accuracy: 0.9893\n",
            "Test Set ROC AUC: 0.9676\n",
            "Test Set F1 Score: 0.2186\n",
            "Test Set Recall: 0.8649\n",
            "------------------------------\n",
            "Model: Decision Tree\n",
            "Cross-Validation Accuracy: 0.9991\n",
            "Cross-Validation Precision: 0.7757\n",
            "Cross-Validation ROC AUC: 0.8631\n",
            "Cross-Validation F1 Score: 0.7546\n",
            "Cross-Validation Recall: 0.7413\n",
            "Training Time: 21.2695 seconds\n",
            "Test Set Accuracy: 0.9991\n",
            "Test Set ROC AUC: 0.8478\n",
            "Test Set F1 Score: 0.7357\n",
            "Test Set Recall: 0.6959\n",
            "------------------------------\n",
            "Model: XGBoost\n",
            "Cross-Validation Accuracy: 0.9994\n",
            "Cross-Validation Precision: 0.8476\n",
            "Cross-Validation ROC AUC: 0.9727\n",
            "Cross-Validation F1 Score: 0.8325\n",
            "Cross-Validation Recall: 0.8197\n",
            "Training Time: 7.6897 seconds\n",
            "Test Set Accuracy: 0.9993\n",
            "Test Set ROC AUC: 0.9641\n",
            "Test Set F1 Score: 0.7915\n",
            "Test Set Recall: 0.7568\n",
            "------------------------------\n",
            "Model: Random Forest Classifier\n",
            "Cross-Validation Accuracy: 0.9996\n",
            "Cross-Validation Precision: 0.9423\n",
            "Cross-Validation ROC AUC: 0.9534\n",
            "Cross-Validation F1 Score: 0.8569\n",
            "Cross-Validation Recall: 0.7965\n",
            "Training Time: 174.5319 seconds\n",
            "Test Set Accuracy: 0.9995\n",
            "Test Set ROC AUC: 0.9408\n",
            "Test Set F1 Score: 0.8385\n",
            "Test Set Recall: 0.7365\n",
            "------------------------------\n",
            "============================================================\n",
            "Resampling method: ADASYN\n",
            "Model: Logistic Regression\n",
            "Cross-Validation Accuracy: 0.9625\n",
            "Cross-Validation Precision: 0.0415\n",
            "Cross-Validation ROC AUC: 0.9788\n",
            "Cross-Validation F1 Score: 0.0793\n",
            "Cross-Validation Recall: 0.9302\n",
            "Training Time: 9.0287 seconds\n",
            "Test Set Accuracy: 0.9607\n",
            "Test Set ROC AUC: 0.9659\n",
            "Test Set F1 Score: 0.0724\n",
            "Test Set Recall: 0.8851\n",
            "------------------------------\n",
            "Model: Decision Tree\n",
            "Cross-Validation Accuracy: 0.9976\n",
            "Cross-Validation Precision: 0.4084\n",
            "Cross-Validation ROC AUC: 0.8725\n",
            "Cross-Validation F1 Score: 0.5098\n",
            "Cross-Validation Recall: 0.7558\n",
            "Training Time: 34.4887 seconds\n",
            "Test Set Accuracy: 0.9974\n",
            "Test Set ROC AUC: 0.8368\n",
            "Test Set F1 Score: 0.4706\n",
            "Test Set Recall: 0.6757\n",
            "------------------------------\n",
            "Model: XGBoost\n",
            "Cross-Validation Accuracy: 0.9978\n",
            "Cross-Validation Precision: 0.4275\n",
            "Cross-Validation ROC AUC: 0.9761\n",
            "Cross-Validation F1 Score: 0.5691\n",
            "Cross-Validation Recall: 0.8604\n",
            "Training Time: 6.2230 seconds\n",
            "Test Set Accuracy: 0.9968\n",
            "Test Set ROC AUC: 0.9712\n",
            "Test Set F1 Score: 0.4727\n",
            "Test Set Recall: 0.8176\n",
            "------------------------------\n",
            "Model: Random Forest Classifier\n",
            "Cross-Validation Accuracy: 0.9995\n",
            "Cross-Validation Precision: 0.8769\n",
            "Cross-Validation ROC AUC: 0.9711\n",
            "Cross-Validation F1 Score: 0.8503\n",
            "Cross-Validation Recall: 0.8226\n",
            "Training Time: 268.8945 seconds\n",
            "Test Set Accuracy: 0.9994\n",
            "Test Set ROC AUC: 0.9724\n",
            "Test Set F1 Score: 0.8256\n",
            "Test Set Recall: 0.7838\n",
            "------------------------------\n",
            "============================================================\n"
          ]
        }
      ]
    },
    {
      "cell_type": "markdown",
      "metadata": {
        "id": "2f8dviaS_-9b"
      },
      "source": [
        "**Class weight**"
      ]
    }
  ],
  "metadata": {
    "colab": {
      "provenance": [],
      "authorship_tag": "ABX9TyMWQTP+78HZfPp+GSS0a8k8",
      "include_colab_link": true
    },
    "kernelspec": {
      "display_name": "Python 3",
      "name": "python3"
    },
    "language_info": {
      "name": "python"
    }
  },
  "nbformat": 4,
  "nbformat_minor": 0
}